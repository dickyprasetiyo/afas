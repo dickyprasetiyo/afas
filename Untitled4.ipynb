{
  "nbformat": 4,
  "nbformat_minor": 0,
  "metadata": {
    "colab": {
      "name": "Untitled4.ipynb",
      "provenance": [],
      "collapsed_sections": [],
      "authorship_tag": "ABX9TyMjVRfRM2bbgkp7djHnK1r1",
      "include_colab_link": true
    },
    "kernelspec": {
      "name": "python3",
      "display_name": "Python 3"
    }
  },
  "cells": [
    {
      "cell_type": "markdown",
      "metadata": {
        "id": "view-in-github",
        "colab_type": "text"
      },
      "source": [
        "<a href=\"https://colab.research.google.com/github/dickyprasetiyo/afas/blob/master/Untitled4.ipynb\" target=\"_parent\"><img src=\"https://colab.research.google.com/assets/colab-badge.svg\" alt=\"Open In Colab\"/></a>"
      ]
    },
    {
      "cell_type": "code",
      "metadata": {
        "id": "uXXFCxj-XUPo",
        "colab_type": "code",
        "colab": {}
      },
      "source": [
        "import matplotlib.pyplot as plt\n",
        "import numpy as np"
      ],
      "execution_count": 0,
      "outputs": []
    },
    {
      "cell_type": "code",
      "metadata": {
        "id": "TgMtZWQCYLk2",
        "colab_type": "code",
        "colab": {}
      },
      "source": [
        "#inisialisasi\n",
        "d = 10 #jarak garis paralel\n",
        "l = 5 #panjang dari jarum\n",
        "N = np.arange(100,45100,100)\n",
        "n_trial = 10"
      ],
      "execution_count": 0,
      "outputs": []
    },
    {
      "cell_type": "code",
      "metadata": {
        "id": "Q_01V6tWYYFr",
        "colab_type": "code",
        "colab": {}
      },
      "source": [
        "pi_list = []\n",
        "for n_jarum in N:\n",
        "  for trial in range(n_trial):\n",
        "    z = 0\n",
        "    pi_trial = []\n",
        "    for i in range(n_jarum):\n",
        "      #Lempar\n",
        "      x = np.random.rand() * d\n",
        "      theta = np.random.rand() * 90\n",
        "      #Kondisi\n",
        "      if x <= l * np.cos(np.deg2rad(theta)): #radian\n",
        "        z += 1\n",
        "    pi = (2*l/d)*(n_jarum/z)\n",
        "    pi_trial.append(pi)\n",
        "  pi_avg = np.average(pi_trial)\n",
        "  pi_list.append(pi_avg)"
      ],
      "execution_count": 0,
      "outputs": []
    },
    {
      "cell_type": "code",
      "metadata": {
        "id": "4MRrBQz_Y5YT",
        "colab_type": "code",
        "colab": {
          "base_uri": "https://localhost:8080/",
          "height": 279
        },
        "outputId": "ad8a5e90-d35c-4b67-b7c9-0a5bb3c0bbd6"
      },
      "source": [
        "plt.plot(N, pi_list, c='blue')\n",
        "plt.scatter(N, pi_list, c='blue', label='approx.')\n",
        "plt.axhline(y=np.pi, c='black', label='exact')\n",
        "plt.xlabel('Jumlah Jarum')\n",
        "plt.ylabel('$\\pi$ value')\n",
        "plt.legend()\n",
        "plt.show()"
      ],
      "execution_count": 26,
      "outputs": [
        {
          "output_type": "display_data",
          "data": {
            "image/png": "[encoded data removed]",
            "text/plain": [
              "<Figure size 432x288 with 1 Axes>"
            ]
          },
          "metadata": {
            "tags": []
          }
        }
      ]
    }
  ]
}