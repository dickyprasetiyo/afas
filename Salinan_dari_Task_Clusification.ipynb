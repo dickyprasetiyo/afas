{
  "nbformat": 4,
  "nbformat_minor": 0,
  "metadata": {
    "colab": {
      "name": "Salinan dari Task_Clusification.ipynb",
      "provenance": [],
      "collapsed_sections": [],
      "authorship_tag": "ABX9TyPvrTgw5rmkVcndK5WcQmfZ",
      "include_colab_link": true
    },
    "kernelspec": {
      "name": "python3",
      "display_name": "Python 3"
    }
  },
  "cells": [
    {
      "cell_type": "markdown",
      "metadata": {
        "id": "view-in-github",
        "colab_type": "text"
      },
      "source": [
        "<a href=\"https://colab.research.google.com/github/dickyprasetiyo/afas/blob/master/Salinan_dari_Task_Clusification.ipynb\" target=\"_parent\"><img src=\"https://colab.research.google.com/assets/colab-badge.svg\" alt=\"Open In Colab\"/></a>"
      ]
    },
    {
      "cell_type": "code",
      "metadata": {
        "id": "ysG_SDQNHHKL",
        "colab_type": "code",
        "colab": {}
      },
      "source": [
        "import pandas as pd\n",
        "import numpy as np\n",
        "import matplotlib.pyplot as plt"
      ],
      "execution_count": 0,
      "outputs": []
    },
    {
      "cell_type": "code",
      "metadata": {
        "id": "wDVE4oN2HfGM",
        "colab_type": "code",
        "colab": {}
      },
      "source": [
        "data_original = pd.read_csv(\"air_bnb.csv\")"
      ],
      "execution_count": 0,
      "outputs": []
    },
    {
      "cell_type": "code",
      "metadata": {
        "id": "PzMcbZECHkav",
        "colab_type": "code",
        "outputId": "261f4e94-7fc7-42af-d4f8-fe94a8cb87f4",
        "colab": {
          "base_uri": "https://localhost:8080/",
          "height": 306
        }
      },
      "source": [
        "data_original.isnull().sum() \n",
        "#Lihat apakah ada nilai null pada dataset ternyata ada\n",
        "# Pada baris name,host_name,last_review, dan reviews_per_month\n",
        "# Saya akan menghapus baris yang terdapat nilai null"
      ],
      "execution_count": 0,
      "outputs": [
        {
          "output_type": "execute_result",
          "data": {
            "text/plain": [
              "id                                   0\n",
              "name                                59\n",
              "host_id                              0\n",
              "host_name                           26\n",
              "neighbourhood_group                  0\n",
              "neighbourhood                        0\n",
              "latitude                             0\n",
              "longitude                            0\n",
              "room_type                            0\n",
              "price                                0\n",
              "minimum_nights                       0\n",
              "number_of_reviews                    0\n",
              "last_review                       3908\n",
              "reviews_per_month                 3914\n",
              "calculated_host_listings_count       0\n",
              "availability_365                     0\n",
              "dtype: int64"
            ]
          },
          "metadata": {
            "tags": []
          },
          "execution_count": 34
        }
      ]
    },
    {
      "cell_type": "code",
      "metadata": {
        "id": "QswHovmVHnfS",
        "colab_type": "code",
        "colab": {}
      },
      "source": [
        "data_berubah1 = data_original.dropna(axis=1)"
      ],
      "execution_count": 0,
      "outputs": []
    },
    {
      "cell_type": "code",
      "metadata": {
        "id": "OdlVbu3PHuP1",
        "colab_type": "code",
        "colab": {}
      },
      "source": [
        "kualitatif = {\"neighbourhood_group\":{\"Charlottenburg-Wilm.\":0,\"Friedrichshain-Kreuzberg\":1,\"Lichtenberg\":2,\"Marzahn - Hellersdorf\":3,\n",
        "                                    \"Mitte\":4,\"Neukölln\":5,\"Pankow\":6,\"Reinickendorf\":7,\"Spandau\":8,\"Steglitz - Zehlendorf\":9,\n",
        "                                     \"Steglitz - Zehlendorf\":10,\"Tempelhof - Schöneberg\":11,\"Treptow - Köpenick\":12},\n",
        "             \"room_type\":{\"Entire home/apt\":0,\"Private room\":1,\"Shared room\":2}}"
      ],
      "execution_count": 0,
      "outputs": []
    },
    {
      "cell_type": "code",
      "metadata": {
        "id": "Ud2uYsJZHvY9",
        "colab_type": "code",
        "outputId": "7d8d084f-7796-4828-cb33-25982fbdb85e",
        "colab": {
          "base_uri": "https://localhost:8080/",
          "height": 139
        }
      },
      "source": [
        "data_berubah1.replace(kualitatif, inplace=True)"
      ],
      "execution_count": 0,
      "outputs": [
        {
          "output_type": "stream",
          "text": [
            "/usr/local/lib/python3.6/dist-packages/pandas/core/generic.py:6666: SettingWithCopyWarning: \n",
            "A value is trying to be set on a copy of a slice from a DataFrame.\n",
            "Try using .loc[row_indexer,col_indexer] = value instead\n",
            "\n",
            "See the caveats in the documentation: https://pandas.pydata.org/pandas-docs/stable/user_guide/indexing.html#returning-a-view-versus-a-copy\n",
            "  regex=regex,\n"
          ],
          "name": "stderr"
        }
      ]
    },
    {
      "cell_type": "markdown",
      "metadata": {
        "id": "V2vZuPUcJnNZ",
        "colab_type": "text"
      },
      "source": [
        ""
      ]
    },
    {
      "cell_type": "code",
      "metadata": {
        "id": "NQcwlkNEHxwR",
        "colab_type": "code",
        "colab": {}
      },
      "source": [
        "data_berubah2 = data_berubah1.drop(\"neighbourhood\", axis=1)"
      ],
      "execution_count": 0,
      "outputs": []
    },
    {
      "cell_type": "code",
      "metadata": {
        "id": "m13m78xzH1XP",
        "colab_type": "code",
        "colab": {}
      },
      "source": [
        "Q1 = data_berubah2['price'].quantile(0.25)\n",
        "Q3 = data_berubah2['price'].quantile(0.75)\n",
        "IQR = Q3 - Q1    #IQR is interquartile range. \n",
        "\n",
        "filter1 = (data_berubah2['price'] >= Q1 - 1.5 * IQR) & (data_berubah2['price'] <= Q3 + 1.5 *IQR)\n",
        "data_berubah3 = data_berubah2.loc[filter1]  "
      ],
      "execution_count": 0,
      "outputs": []
    },
    {
      "cell_type": "code",
      "metadata": {
        "id": "yKWqf9KoH60f",
        "colab_type": "code",
        "colab": {}
      },
      "source": [
        "Q1a = data_berubah3['minimum_nights'].quantile(0.25)\n",
        "Q3a = data_berubah3['minimum_nights'].quantile(0.75)\n",
        "IQRa = Q3a - Q1a    #IQR is interquartile range. \n",
        "\n",
        "filter1a = (data_berubah3['minimum_nights'] >= Q1a - 1.5 * IQRa) & (data_berubah3['minimum_nights'] <= Q3a + 1.5 *IQRa)\n",
        "data_berubah4 = data_berubah3.loc[filter1a]  "
      ],
      "execution_count": 0,
      "outputs": []
    },
    {
      "cell_type": "code",
      "metadata": {
        "id": "7Wd9cWsnH8T-",
        "colab_type": "code",
        "outputId": "515e02b3-c3db-48da-c42a-60c7c07c95e6",
        "colab": {
          "base_uri": "https://localhost:8080/",
          "height": 439
        }
      },
      "source": [
        "data_berubah4"
      ],
      "execution_count": 0,
      "outputs": [
        {
          "output_type": "execute_result",
          "data": {
            "text/html": [
              "<div>\n",
              "<style scoped>\n",
              "    .dataframe tbody tr th:only-of-type {\n",
              "        vertical-align: middle;\n",
              "    }\n",
              "\n",
              "    .dataframe tbody tr th {\n",
              "        vertical-align: top;\n",
              "    }\n",
              "\n",
              "    .dataframe thead th {\n",
              "        text-align: right;\n",
              "    }\n",
              "</style>\n",
              "<table border=\"1\" class=\"dataframe\">\n",
              "  <thead>\n",
              "    <tr style=\"text-align: right;\">\n",
              "      <th></th>\n",
              "      <th>id</th>\n",
              "      <th>host_id</th>\n",
              "      <th>neighbourhood_group</th>\n",
              "      <th>latitude</th>\n",
              "      <th>longitude</th>\n",
              "      <th>room_type</th>\n",
              "      <th>price</th>\n",
              "      <th>minimum_nights</th>\n",
              "      <th>number_of_reviews</th>\n",
              "      <th>calculated_host_listings_count</th>\n",
              "      <th>availability_365</th>\n",
              "    </tr>\n",
              "  </thead>\n",
              "  <tbody>\n",
              "    <tr>\n",
              "      <th>0</th>\n",
              "      <td>2015</td>\n",
              "      <td>2217</td>\n",
              "      <td>4</td>\n",
              "      <td>52.534537</td>\n",
              "      <td>13.402557</td>\n",
              "      <td>0</td>\n",
              "      <td>60</td>\n",
              "      <td>4</td>\n",
              "      <td>118</td>\n",
              "      <td>4</td>\n",
              "      <td>141</td>\n",
              "    </tr>\n",
              "    <tr>\n",
              "      <th>1</th>\n",
              "      <td>2695</td>\n",
              "      <td>2986</td>\n",
              "      <td>6</td>\n",
              "      <td>52.548513</td>\n",
              "      <td>13.404553</td>\n",
              "      <td>1</td>\n",
              "      <td>17</td>\n",
              "      <td>2</td>\n",
              "      <td>6</td>\n",
              "      <td>1</td>\n",
              "      <td>0</td>\n",
              "    </tr>\n",
              "    <tr>\n",
              "      <th>3</th>\n",
              "      <td>3309</td>\n",
              "      <td>4108</td>\n",
              "      <td>11</td>\n",
              "      <td>52.498855</td>\n",
              "      <td>13.349065</td>\n",
              "      <td>1</td>\n",
              "      <td>26</td>\n",
              "      <td>5</td>\n",
              "      <td>25</td>\n",
              "      <td>1</td>\n",
              "      <td>297</td>\n",
              "    </tr>\n",
              "    <tr>\n",
              "      <th>4</th>\n",
              "      <td>7071</td>\n",
              "      <td>17391</td>\n",
              "      <td>6</td>\n",
              "      <td>52.543157</td>\n",
              "      <td>13.415091</td>\n",
              "      <td>1</td>\n",
              "      <td>42</td>\n",
              "      <td>2</td>\n",
              "      <td>197</td>\n",
              "      <td>1</td>\n",
              "      <td>26</td>\n",
              "    </tr>\n",
              "    <tr>\n",
              "      <th>9</th>\n",
              "      <td>17409</td>\n",
              "      <td>67590</td>\n",
              "      <td>6</td>\n",
              "      <td>52.529071</td>\n",
              "      <td>13.412843</td>\n",
              "      <td>1</td>\n",
              "      <td>45</td>\n",
              "      <td>3</td>\n",
              "      <td>279</td>\n",
              "      <td>1</td>\n",
              "      <td>42</td>\n",
              "    </tr>\n",
              "    <tr>\n",
              "      <th>...</th>\n",
              "      <td>...</td>\n",
              "      <td>...</td>\n",
              "      <td>...</td>\n",
              "      <td>...</td>\n",
              "      <td>...</td>\n",
              "      <td>...</td>\n",
              "      <td>...</td>\n",
              "      <td>...</td>\n",
              "      <td>...</td>\n",
              "      <td>...</td>\n",
              "      <td>...</td>\n",
              "    </tr>\n",
              "    <tr>\n",
              "      <th>22547</th>\n",
              "      <td>29856708</td>\n",
              "      <td>87555909</td>\n",
              "      <td>4</td>\n",
              "      <td>52.533865</td>\n",
              "      <td>13.400731</td>\n",
              "      <td>0</td>\n",
              "      <td>60</td>\n",
              "      <td>2</td>\n",
              "      <td>0</td>\n",
              "      <td>1</td>\n",
              "      <td>314</td>\n",
              "    </tr>\n",
              "    <tr>\n",
              "      <th>22548</th>\n",
              "      <td>29857108</td>\n",
              "      <td>67537363</td>\n",
              "      <td>11</td>\n",
              "      <td>52.496211</td>\n",
              "      <td>13.341738</td>\n",
              "      <td>2</td>\n",
              "      <td>20</td>\n",
              "      <td>1</td>\n",
              "      <td>0</td>\n",
              "      <td>6</td>\n",
              "      <td>78</td>\n",
              "    </tr>\n",
              "    <tr>\n",
              "      <th>22549</th>\n",
              "      <td>29864272</td>\n",
              "      <td>3146923</td>\n",
              "      <td>6</td>\n",
              "      <td>52.531800</td>\n",
              "      <td>13.411999</td>\n",
              "      <td>0</td>\n",
              "      <td>85</td>\n",
              "      <td>3</td>\n",
              "      <td>0</td>\n",
              "      <td>2</td>\n",
              "      <td>15</td>\n",
              "    </tr>\n",
              "    <tr>\n",
              "      <th>22550</th>\n",
              "      <td>29866805</td>\n",
              "      <td>36961901</td>\n",
              "      <td>4</td>\n",
              "      <td>52.520802</td>\n",
              "      <td>13.378688</td>\n",
              "      <td>1</td>\n",
              "      <td>99</td>\n",
              "      <td>1</td>\n",
              "      <td>0</td>\n",
              "      <td>3</td>\n",
              "      <td>6</td>\n",
              "    </tr>\n",
              "    <tr>\n",
              "      <th>22551</th>\n",
              "      <td>29867352</td>\n",
              "      <td>177464875</td>\n",
              "      <td>5</td>\n",
              "      <td>52.473762</td>\n",
              "      <td>13.424447</td>\n",
              "      <td>1</td>\n",
              "      <td>45</td>\n",
              "      <td>5</td>\n",
              "      <td>0</td>\n",
              "      <td>1</td>\n",
              "      <td>21</td>\n",
              "    </tr>\n",
              "  </tbody>\n",
              "</table>\n",
              "<p>18924 rows × 11 columns</p>\n",
              "</div>"
            ],
            "text/plain": [
              "             id    host_id  ...  calculated_host_listings_count  availability_365\n",
              "0          2015       2217  ...                               4               141\n",
              "1          2695       2986  ...                               1                 0\n",
              "3          3309       4108  ...                               1               297\n",
              "4          7071      17391  ...                               1                26\n",
              "9         17409      67590  ...                               1                42\n",
              "...         ...        ...  ...                             ...               ...\n",
              "22547  29856708   87555909  ...                               1               314\n",
              "22548  29857108   67537363  ...                               6                78\n",
              "22549  29864272    3146923  ...                               2                15\n",
              "22550  29866805   36961901  ...                               3                 6\n",
              "22551  29867352  177464875  ...                               1                21\n",
              "\n",
              "[18924 rows x 11 columns]"
            ]
          },
          "metadata": {
            "tags": []
          },
          "execution_count": 41
        }
      ]
    },
    {
      "cell_type": "code",
      "metadata": {
        "id": "63iBGMLvIEyy",
        "colab_type": "code",
        "colab": {}
      },
      "source": [
        "X = data_berubah4.drop([\"latitude\",\"longitude\",\"id\",\"host_id\",\"availability_365\"], axis=1)\n",
        "y = data_berubah4['room_type']"
      ],
      "execution_count": 0,
      "outputs": []
    },
    {
      "cell_type": "code",
      "metadata": {
        "id": "N-H-BJTNIGRf",
        "colab_type": "code",
        "colab": {}
      },
      "source": [
        "from sklearn.model_selection import train_test_split\n",
        "X_train, X_test, y_train, y_test = train_test_split(X, y, test_size = 0.20)"
      ],
      "execution_count": 0,
      "outputs": []
    },
    {
      "cell_type": "code",
      "metadata": {
        "id": "yT2iGx0WIM0n",
        "colab_type": "code",
        "outputId": "e28c5db9-a97f-40d3-d9e5-ec201a653c93",
        "colab": {
          "base_uri": "https://localhost:8080/",
          "height": 85
        }
      },
      "source": [
        "from sklearn.svm import SVC\n",
        "svclassifier_1 = SVC(kernel='rbf')\n",
        "svclassifier_1.fit(X_train, y_train)\n",
        "svclassifier_2 = SVC(kernel='linear')\n",
        "svclassifier_2.fit(X_train, y_train)"
      ],
      "execution_count": 0,
      "outputs": [
        {
          "output_type": "execute_result",
          "data": {
            "text/plain": [
              "SVC(C=1.0, break_ties=False, cache_size=200, class_weight=None, coef0=0.0,\n",
              "    decision_function_shape='ovr', degree=3, gamma='scale', kernel='linear',\n",
              "    max_iter=-1, probability=False, random_state=None, shrinking=True,\n",
              "    tol=0.001, verbose=False)"
            ]
          },
          "metadata": {
            "tags": []
          },
          "execution_count": 44
        }
      ]
    },
    {
      "cell_type": "code",
      "metadata": {
        "id": "1IUUxzBCIP6P",
        "colab_type": "code",
        "colab": {}
      },
      "source": [
        "y_pred1 = svclassifier_1.predict(X_test)\n",
        "y_pred2 = svclassifier_2.predict(X_test)"
      ],
      "execution_count": 0,
      "outputs": []
    },
    {
      "cell_type": "code",
      "metadata": {
        "id": "IAAbkoISJzBQ",
        "colab_type": "code",
        "outputId": "9d863c76-af6e-4af7-e9e6-c9aa2b44eb61",
        "colab": {
          "base_uri": "https://localhost:8080/",
          "height": 34
        }
      },
      "source": [
        "y_pred1"
      ],
      "execution_count": 0,
      "outputs": [
        {
          "output_type": "execute_result",
          "data": {
            "text/plain": [
              "array([1, 1, 1, ..., 1, 1, 1])"
            ]
          },
          "metadata": {
            "tags": []
          },
          "execution_count": 46
        }
      ]
    },
    {
      "cell_type": "code",
      "metadata": {
        "id": "54gPqv-PV6rX",
        "colab_type": "code",
        "outputId": "4d2cb40b-d071-4734-b8f8-6c0806202968",
        "colab": {
          "base_uri": "https://localhost:8080/",
          "height": 34
        }
      },
      "source": [
        "y_pred2"
      ],
      "execution_count": 0,
      "outputs": [
        {
          "output_type": "execute_result",
          "data": {
            "text/plain": [
              "array([1, 1, 1, ..., 1, 1, 1])"
            ]
          },
          "metadata": {
            "tags": []
          },
          "execution_count": 47
        }
      ]
    },
    {
      "cell_type": "code",
      "metadata": {
        "id": "kvbPVM4HKilg",
        "colab_type": "code",
        "outputId": "89587a89-76c7-4e78-c348-35c03f0381c5",
        "colab": {
          "base_uri": "https://localhost:8080/",
          "height": 238
        }
      },
      "source": [
        "from sklearn.metrics import classification_report, confusion_matrix\n",
        "print(confusion_matrix(y_test,y_pred1))\n",
        "print(classification_report(y_test,y_pred1))"
      ],
      "execution_count": 0,
      "outputs": [
        {
          "output_type": "stream",
          "text": [
            "[[1606   33    0]\n",
            " [  70 2031    0]\n",
            " [   1   40    4]]\n",
            "              precision    recall  f1-score   support\n",
            "\n",
            "           0       0.96      0.98      0.97      1639\n",
            "           1       0.97      0.97      0.97      2101\n",
            "           2       1.00      0.09      0.16        45\n",
            "\n",
            "    accuracy                           0.96      3785\n",
            "   macro avg       0.97      0.68      0.70      3785\n",
            "weighted avg       0.96      0.96      0.96      3785\n",
            "\n"
          ],
          "name": "stdout"
        }
      ]
    },
    {
      "cell_type": "code",
      "metadata": {
        "id": "_BCTVA3vKqnM",
        "colab_type": "code",
        "outputId": "7104f46b-889c-4782-dfef-3d914f315412",
        "colab": {
          "base_uri": "https://localhost:8080/",
          "height": 238
        }
      },
      "source": [
        "from sklearn.metrics import classification_report, confusion_matrix\n",
        "print(confusion_matrix(y_test,y_pred2))\n",
        "print(classification_report(y_test,y_pred2))"
      ],
      "execution_count": 0,
      "outputs": [
        {
          "output_type": "stream",
          "text": [
            "[[1639    0    0]\n",
            " [   0 2101    0]\n",
            " [   0    0   45]]\n",
            "              precision    recall  f1-score   support\n",
            "\n",
            "           0       1.00      1.00      1.00      1639\n",
            "           1       1.00      1.00      1.00      2101\n",
            "           2       1.00      1.00      1.00        45\n",
            "\n",
            "    accuracy                           1.00      3785\n",
            "   macro avg       1.00      1.00      1.00      3785\n",
            "weighted avg       1.00      1.00      1.00      3785\n",
            "\n"
          ],
          "name": "stdout"
        }
      ]
    }
  ]
}